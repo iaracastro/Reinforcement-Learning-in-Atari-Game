{
 "cells": [
  {
   "cell_type": "code",
   "execution_count": 1,
   "metadata": {},
   "outputs": [],
   "source": [
    "import gymnasium as gym\n",
    "import matplotlib.pyplot as plt\n",
    "import pygame\n",
    "import tensorflow as tf\n",
    "\n",
    "from IPython.display import clear_output\n",
    "\n",
    "from agents import Agent, HumanAgent, RLAgent\n",
    "from game import Game\n",
    "\n",
    "has_gpu = tf.test.is_gpu_available()\n",
    "# Primeira chamada do keras produz muitos logs, então chamamos aqui para limpar\n",
    "tf.keras.Model()\n",
    "# Limpa texto desnecessário\n",
    "clear_output()\n",
    "\n",
    "if not has_gpu:\n",
    "    print(\"Nenhuma GPU dedicada detectada. O treinamento do modelo pode ser muito demorado.\")"
   ]
  },
  {
   "cell_type": "code",
   "execution_count": 2,
   "metadata": {},
   "outputs": [
    {
     "name": "stderr",
     "output_type": "stream",
     "text": [
      "A.L.E: Arcade Learning Environment (version 0.8.1+53f58b7)\n",
      "[Powered by Stella]\n"
     ]
    },
    {
     "name": "stdout",
     "output_type": "stream",
     "text": [
      "Espaço de observações: Box(0, 255, (210, 160), uint8)\n",
      "Espaço de ações: Discrete(6)\n"
     ]
    },
    {
     "data": {
      "image/png": "[encoded data removed]",
      "text/plain": [
       "<Figure size 1000x500 with 2 Axes>"
      ]
     },
     "metadata": {},
     "output_type": "display_data"
    }
   ],
   "source": [
    "env = gym.make(\"DemonAttackNoFrameskip-v4\", obs_type=\"grayscale\", render_mode=\"rgb_array\")\n",
    "# Não muda nada, mas evita warnings\n",
    "env.metadata[\"render_fps\"] = 60\n",
    "env.reset()\n",
    "observation, _, _, _, _ = env.step(0)\n",
    "observation = tf.image.resize(observation[:, :, None], (105, 80))\n",
    "frame = env.render()\n",
    "\n",
    "print(\"Espaço de observações:\", env.observation_space)\n",
    "print(\"Espaço de ações:\", env.action_space)\n",
    "n_actions = env.action_space.n\n",
    "env.close()\n",
    "\n",
    "fig, ax = plt.subplots(1, 2, figsize=(10, 5))\n",
    "ax[0].imshow(observation, cmap=\"gray\")\n",
    "ax[0].title.set_text(\"Observação (entrada da rede)\")\n",
    "ax[1].imshow(frame)\n",
    "ax[1].title.set_text(\"Frame (renderização do ambiente)\")\n",
    "plt.show()"
   ]
  },
  {
   "cell_type": "markdown",
   "metadata": {},
   "source": [
    "Ações:\n",
    "\n",
    "<table class=\"docutils align-default\">\n",
    "<thead>\n",
    "<tr class=\"row-odd\"><th class=\"head\"><p>Value</p></th>\n",
    "<th class=\"head\"><p>Meaning</p></th>\n",
    "<th class=\"head\"><p>Value</p></th>\n",
    "<th class=\"head\"><p>Meaning</p></th>\n",
    "<th class=\"head\"><p>Value</p></th>\n",
    "<th class=\"head\"><p>Meaning</p></th>\n",
    "</tr>\n",
    "</thead>\n",
    "<tbody>\n",
    "<tr class=\"row-even\"><td><p><code class=\"docutils literal notranslate\"><span class=\"pre\">0</span></code></p></td>\n",
    "<td><p><code class=\"docutils literal notranslate\"><span class=\"pre\">NOOP</span></code></p></td>\n",
    "<td><p><code class=\"docutils literal notranslate\"><span class=\"pre\">1</span></code></p></td>\n",
    "<td><p><code class=\"docutils literal notranslate\"><span class=\"pre\">FIRE</span></code></p></td>\n",
    "<td><p><code class=\"docutils literal notranslate\"><span class=\"pre\">2</span></code></p></td>\n",
    "<td><p><code class=\"docutils literal notranslate\"><span class=\"pre\">RIGHT</span></code></p></td>\n",
    "</tr>\n",
    "<tr class=\"row-odd\"><td><p><code class=\"docutils literal notranslate\"><span class=\"pre\">3</span></code></p></td>\n",
    "<td><p><code class=\"docutils literal notranslate\"><span class=\"pre\">LEFT</span></code></p></td>\n",
    "<td><p><code class=\"docutils literal notranslate\"><span class=\"pre\">4</span></code></p></td>\n",
    "<td><p><code class=\"docutils literal notranslate\"><span class=\"pre\">RIGHTFIRE</span></code></p></td>\n",
    "<td><p><code class=\"docutils literal notranslate\"><span class=\"pre\">5</span></code></p></td>\n",
    "<td><p><code class=\"docutils literal notranslate\"><span class=\"pre\">LEFTFIRE</span></code></p></td>\n",
    "</tr>\n",
    "</tbody>\n",
    "</table>"
   ]
  },
  {
   "cell_type": "code",
   "execution_count": 3,
   "metadata": {},
   "outputs": [],
   "source": [
    "mapping = {\n",
    "    (pygame.K_a, pygame.K_d, pygame.K_SPACE): 1,    # Atirar\n",
    "    (pygame.K_d, pygame.K_SPACE): 4,                # Direita e atirar\n",
    "    (pygame.K_a, pygame.K_SPACE): 5,                # Esquerda e atirar\n",
    "    (pygame.K_a, pygame.K_d): 0,                    # Ficar parado\n",
    "    pygame.K_SPACE: 1,                              # Atirar\n",
    "    pygame.K_d: 2,                                  # Direita\n",
    "    pygame.K_a: 3                                   # Esquerda\n",
    "}"
   ]
  },
  {
   "cell_type": "code",
   "execution_count": 4,
   "metadata": {},
   "outputs": [],
   "source": [
    "# ALE/DemonAttack-v5 skips 4 frames\n",
    "game = Game(\n",
    "    \"DemonAttackNoFrameskip-v4\",\n",
    "    # RLAgent(n_actions, (105, 80)),\n",
    "    Agent(n_actions),\n",
    "    rotated=True,\n",
    "    human_agent=HumanAgent(mapping)\n",
    ")"
   ]
  },
  {
   "cell_type": "code",
   "execution_count": 5,
   "metadata": {},
   "outputs": [],
   "source": [
    "game.play(human_player=False)"
   ]
  },
  {
   "cell_type": "code",
   "execution_count": null,
   "metadata": {},
   "outputs": [],
   "source": [
    "# game.train(render=True)"
   ]
  },
  {
   "cell_type": "code",
   "execution_count": null,
   "metadata": {},
   "outputs": [],
   "source": [
    "game.close()"
   ]
  }
 ],
 "metadata": {
  "kernelspec": {
   "display_name": "base",
   "language": "python",
   "name": "python3"
  },
  "language_info": {
   "codemirror_mode": {
    "name": "ipython",
    "version": 3
   },
   "file_extension": ".py",
   "mimetype": "text/x-python",
   "name": "python",
   "nbconvert_exporter": "python",
   "pygments_lexer": "ipython3",
   "version": "3.10.12"
  },
  "orig_nbformat": 4
 },
 "nbformat": 4,
 "nbformat_minor": 2
}
